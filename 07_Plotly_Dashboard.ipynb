{
  "nbformat": 4,
  "nbformat_minor": 0,
  "metadata": {
    "colab": {
      "name": "07_Plotly_Dashboard.ipynb",
      "provenance": [],
      "collapsed_sections": []
    },
    "kernelspec": {
      "name": "python3",
      "display_name": "Python 3"
    },
    "language_info": {
      "name": "python"
    }
  },
  "cells": [
    {
      "cell_type": "markdown",
      "metadata": {
        "id": "wcOgZQCUpFmk"
      },
      "source": [
        "# **SpaceX  Falcon 9 first stage Landing Prediction**\n"
      ]
    },
    {
      "cell_type": "markdown",
      "metadata": {
        "id": "QbODfDtTpN98"
      },
      "source": [
        "# Lab 6: Building an interactive dashboard using Plotly and Dash\n"
      ]
    },
    {
      "cell_type": "markdown",
      "metadata": {
        "id": "MJR2Pox5pjmN"
      },
      "source": [
        "## Objectives\n"
      ]
    },
    {
      "cell_type": "markdown",
      "metadata": {
        "id": "x9IBD99hpk6v"
      },
      "source": [
        "In this lab, we will build a dashboard using pandas dash package and plot charts using Plotly..\n",
        "\n",
        "*   Build an interactive dashboard app using pandas dash.\n",
        "*   Plot interactive charts in the dashboard using Plotly.\n"
      ]
    },
    {
      "cell_type": "markdown",
      "metadata": {
        "id": "q6LZcDTMp_OM"
      },
      "source": [
        "***"
      ]
    },
    {
      "cell_type": "markdown",
      "metadata": {
        "id": "uujiBWCdpW5Y"
      },
      "source": [
        "Install the necessary packages"
      ]
    },
    {
      "cell_type": "code",
      "metadata": {
        "id": "3ngJD85mBIEx",
        "colab": {
          "base_uri": "https://localhost:8080/"
        },
        "outputId": "59252171-adc3-4e79-e333-de564730deef"
      },
      "source": [
        "!pip install pandas dash\n",
        "!pip install wget"
      ],
      "execution_count": null,
      "outputs": [
        {
          "output_type": "stream",
          "text": [
            "Requirement already satisfied: pandas in /usr/local/lib/python3.7/dist-packages (1.1.5)\n",
            "Requirement already satisfied: dash in /usr/local/lib/python3.7/dist-packages (1.21.0)\n",
            "Requirement already satisfied: pytz>=2017.2 in /usr/local/lib/python3.7/dist-packages (from pandas) (2018.9)\n",
            "Requirement already satisfied: numpy>=1.15.4 in /usr/local/lib/python3.7/dist-packages (from pandas) (1.19.5)\n",
            "Requirement already satisfied: python-dateutil>=2.7.3 in /usr/local/lib/python3.7/dist-packages (from pandas) (2.8.2)\n",
            "Requirement already satisfied: six>=1.5 in /usr/local/lib/python3.7/dist-packages (from python-dateutil>=2.7.3->pandas) (1.15.0)\n",
            "Requirement already satisfied: flask-compress in /usr/local/lib/python3.7/dist-packages (from dash) (1.10.1)\n",
            "Requirement already satisfied: plotly in /usr/local/lib/python3.7/dist-packages (from dash) (4.4.1)\n",
            "Requirement already satisfied: dash-table==4.12.0 in /usr/local/lib/python3.7/dist-packages (from dash) (4.12.0)\n",
            "Requirement already satisfied: future in /usr/local/lib/python3.7/dist-packages (from dash) (0.16.0)\n",
            "Requirement already satisfied: dash-core-components==1.17.1 in /usr/local/lib/python3.7/dist-packages (from dash) (1.17.1)\n",
            "Requirement already satisfied: dash-html-components==1.1.4 in /usr/local/lib/python3.7/dist-packages (from dash) (1.1.4)\n",
            "Requirement already satisfied: Flask>=1.0.4 in /usr/local/lib/python3.7/dist-packages (from dash) (1.1.4)\n",
            "Requirement already satisfied: click<8.0,>=5.1 in /usr/local/lib/python3.7/dist-packages (from Flask>=1.0.4->dash) (7.1.2)\n",
            "Requirement already satisfied: Jinja2<3.0,>=2.10.1 in /usr/local/lib/python3.7/dist-packages (from Flask>=1.0.4->dash) (2.11.3)\n",
            "Requirement already satisfied: Werkzeug<2.0,>=0.15 in /usr/local/lib/python3.7/dist-packages (from Flask>=1.0.4->dash) (1.0.1)\n",
            "Requirement already satisfied: itsdangerous<2.0,>=0.24 in /usr/local/lib/python3.7/dist-packages (from Flask>=1.0.4->dash) (1.1.0)\n",
            "Requirement already satisfied: MarkupSafe>=0.23 in /usr/local/lib/python3.7/dist-packages (from Jinja2<3.0,>=2.10.1->Flask>=1.0.4->dash) (2.0.1)\n",
            "Requirement already satisfied: brotli in /usr/local/lib/python3.7/dist-packages (from flask-compress->dash) (1.0.9)\n",
            "Requirement already satisfied: retrying>=1.3.3 in /usr/local/lib/python3.7/dist-packages (from plotly->dash) (1.3.3)\n",
            "Requirement already satisfied: wget in /usr/local/lib/python3.7/dist-packages (3.2)\n"
          ],
          "name": "stdout"
        }
      ]
    },
    {
      "cell_type": "markdown",
      "metadata": {
        "id": "Z3S0i_JLpbuJ"
      },
      "source": [
        "Download the dataset"
      ]
    },
    {
      "cell_type": "code",
      "metadata": {
        "colab": {
          "base_uri": "https://localhost:8080/"
        },
        "id": "dFaN5uCH8qM7",
        "outputId": "8f68b52d-9917-46fc-c74f-8dea5efe04e6"
      },
      "source": [
        "!wget -O spacex_launch_dash.csv https://cf-courses-data.s3.us.cloud-object-storage.appdomain.cloud/IBM-DS0321EN-SkillsNetwork/datasets/spacex_launch_dash.csv"
      ],
      "execution_count": null,
      "outputs": [
        {
          "output_type": "stream",
          "text": [
            "--2021-08-20 20:12:49--  https://cf-courses-data.s3.us.cloud-object-storage.appdomain.cloud/IBM-DS0321EN-SkillsNetwork/datasets/spacex_launch_dash.csv\n",
            "Resolving cf-courses-data.s3.us.cloud-object-storage.appdomain.cloud (cf-courses-data.s3.us.cloud-object-storage.appdomain.cloud)... 169.45.118.108\n",
            "Connecting to cf-courses-data.s3.us.cloud-object-storage.appdomain.cloud (cf-courses-data.s3.us.cloud-object-storage.appdomain.cloud)|169.45.118.108|:443... connected.\n",
            "HTTP request sent, awaiting response... 200 OK\n",
            "Length: 3033 (3.0K) [text/csv]\n",
            "Saving to: ‘spacex_launch_dash.csv’\n",
            "\n",
            "spacex_launch_dash. 100%[===================>]   2.96K  --.-KB/s    in 0s      \n",
            "\n",
            "2021-08-20 20:12:51 (480 MB/s) - ‘spacex_launch_dash.csv’ saved [3033/3033]\n",
            "\n"
          ],
          "name": "stdout"
        }
      ]
    },
    {
      "cell_type": "markdown",
      "metadata": {
        "id": "aHaL_4bzqEZC"
      },
      "source": [
        "Inspect the dataset"
      ]
    },
    {
      "cell_type": "code",
      "metadata": {
        "colab": {
          "base_uri": "https://localhost:8080/",
          "height": 203
        },
        "id": "PR4e83zdWTF4",
        "outputId": "8c1c6ea5-ca3f-4321-8520-f8ca496b4824"
      },
      "source": [
        "import pandas as pd\n",
        "spacex_data = pd.read_csv('/content/spacex_launch_dash.csv')\n",
        "spacex_data.head()"
      ],
      "execution_count": null,
      "outputs": [
        {
          "output_type": "execute_result",
          "data": {
            "text/html": [
              "<div>\n",
              "<style scoped>\n",
              "    .dataframe tbody tr th:only-of-type {\n",
              "        vertical-align: middle;\n",
              "    }\n",
              "\n",
              "    .dataframe tbody tr th {\n",
              "        vertical-align: top;\n",
              "    }\n",
              "\n",
              "    .dataframe thead th {\n",
              "        text-align: right;\n",
              "    }\n",
              "</style>\n",
              "<table border=\"1\" class=\"dataframe\">\n",
              "  <thead>\n",
              "    <tr style=\"text-align: right;\">\n",
              "      <th></th>\n",
              "      <th>Unnamed: 0</th>\n",
              "      <th>Flight Number</th>\n",
              "      <th>Launch Site</th>\n",
              "      <th>Mission Outcome</th>\n",
              "      <th>class</th>\n",
              "      <th>Payload Mass (kg)</th>\n",
              "      <th>Booster Version</th>\n",
              "      <th>Booster Version Category</th>\n",
              "    </tr>\n",
              "  </thead>\n",
              "  <tbody>\n",
              "    <tr>\n",
              "      <th>0</th>\n",
              "      <td>0</td>\n",
              "      <td>1</td>\n",
              "      <td>CCAFS LC-40</td>\n",
              "      <td>Success</td>\n",
              "      <td>0</td>\n",
              "      <td>0.0</td>\n",
              "      <td>F9 v1.0  B0003</td>\n",
              "      <td>v1.0</td>\n",
              "    </tr>\n",
              "    <tr>\n",
              "      <th>1</th>\n",
              "      <td>1</td>\n",
              "      <td>2</td>\n",
              "      <td>CCAFS LC-40</td>\n",
              "      <td>Success</td>\n",
              "      <td>0</td>\n",
              "      <td>0.0</td>\n",
              "      <td>F9 v1.0  B0004</td>\n",
              "      <td>v1.0</td>\n",
              "    </tr>\n",
              "    <tr>\n",
              "      <th>2</th>\n",
              "      <td>2</td>\n",
              "      <td>3</td>\n",
              "      <td>CCAFS LC-40</td>\n",
              "      <td>Success</td>\n",
              "      <td>0</td>\n",
              "      <td>525.0</td>\n",
              "      <td>F9 v1.0  B0005</td>\n",
              "      <td>v1.0</td>\n",
              "    </tr>\n",
              "    <tr>\n",
              "      <th>3</th>\n",
              "      <td>3</td>\n",
              "      <td>4</td>\n",
              "      <td>CCAFS LC-40</td>\n",
              "      <td>Success</td>\n",
              "      <td>0</td>\n",
              "      <td>500.0</td>\n",
              "      <td>F9 v1.0  B0006</td>\n",
              "      <td>v1.0</td>\n",
              "    </tr>\n",
              "    <tr>\n",
              "      <th>4</th>\n",
              "      <td>4</td>\n",
              "      <td>5</td>\n",
              "      <td>CCAFS LC-40</td>\n",
              "      <td>Success</td>\n",
              "      <td>0</td>\n",
              "      <td>677.0</td>\n",
              "      <td>F9 v1.0  B0007</td>\n",
              "      <td>v1.0</td>\n",
              "    </tr>\n",
              "  </tbody>\n",
              "</table>\n",
              "</div>"
            ],
            "text/plain": [
              "   Unnamed: 0  Flight Number  ... Booster Version Booster Version Category\n",
              "0           0              1  ...  F9 v1.0  B0003                     v1.0\n",
              "1           1              2  ...  F9 v1.0  B0004                     v1.0\n",
              "2           2              3  ...  F9 v1.0  B0005                     v1.0\n",
              "3           3              4  ...  F9 v1.0  B0006                     v1.0\n",
              "4           4              5  ...  F9 v1.0  B0007                     v1.0\n",
              "\n",
              "[5 rows x 8 columns]"
            ]
          },
          "metadata": {},
          "execution_count": 27
        }
      ]
    },
    {
      "cell_type": "markdown",
      "metadata": {
        "id": "f29DPObwqOM8"
      },
      "source": [
        "Install ngrok for running the app in a separate tab in your browser"
      ]
    },
    {
      "cell_type": "code",
      "metadata": {
        "colab": {
          "base_uri": "https://localhost:8080/"
        },
        "id": "Z7vdYbURQb4A",
        "outputId": "e6326a05-df9b-40b4-c20f-b44d528cd9c9"
      },
      "source": [
        "### Install ngrok\n",
        "!wget https://bin.equinox.io/c/4VmDzA7iaHb/ngrok-stable-linux-amd64.zip\n",
        "!unzip ngrok-stable-linux-amd64.zip\n",
        "\n",
        "### Run ngrok to tunnel Dash app port 8050 to the outside world. \n",
        "### This command runs in the background.\n",
        "get_ipython().system_raw('./ngrok http 8050 &')\n",
        "\n",
        "### Get the public URL where you can access the Dash app. Copy this URL.\n",
        "!curl -s http://localhost:4040/api/tunnels | python3 -c \"import sys, json; print(json.load(sys.stdin)['tunnels'][0]['public_url'])\""
      ],
      "execution_count": null,
      "outputs": [
        {
          "output_type": "stream",
          "text": [
            "--2021-08-20 20:50:40--  https://bin.equinox.io/c/4VmDzA7iaHb/ngrok-stable-linux-amd64.zip\n",
            "Resolving bin.equinox.io (bin.equinox.io)... 52.45.159.115, 34.226.109.249, 54.243.172.172, ...\n",
            "Connecting to bin.equinox.io (bin.equinox.io)|52.45.159.115|:443... connected.\n",
            "HTTP request sent, awaiting response... 200 OK\n",
            "Length: 13832437 (13M) [application/octet-stream]\n",
            "Saving to: ‘ngrok-stable-linux-amd64.zip.3’\n",
            "\n",
            "ngrok-stable-linux- 100%[===================>]  13.19M  6.55MB/s    in 2.0s    \n",
            "\n",
            "2021-08-20 20:50:43 (6.55 MB/s) - ‘ngrok-stable-linux-amd64.zip.3’ saved [13832437/13832437]\n",
            "\n",
            "Archive:  ngrok-stable-linux-amd64.zip\n",
            "replace ngrok? [y]es, [n]o, [A]ll, [N]one, [r]ename: y\n",
            "  inflating: ngrok                   \n",
            "https://a255553ec284.ngrok.io\n"
          ],
          "name": "stdout"
        }
      ]
    },
    {
      "cell_type": "markdown",
      "metadata": {
        "id": "shqI3a-wqXyc"
      },
      "source": [
        "Build the dash app and save it as `spacex_dash_app.py`"
      ]
    },
    {
      "cell_type": "code",
      "metadata": {
        "colab": {
          "base_uri": "https://localhost:8080/"
        },
        "id": "z0SQkWLKAYMc",
        "outputId": "3855228d-0ea4-4241-eed0-430fda797475"
      },
      "source": [
        "%%writefile spacex_dash_app.py\n",
        "# Import required libraries\n",
        "import pandas as pd\n",
        "import dash\n",
        "import dash_html_components as html\n",
        "import dash_core_components as dcc\n",
        "from dash.dependencies import Input, Output\n",
        "import plotly.express as px\n",
        "\n",
        "# Read the airline data into pandas dataframe\n",
        "spacex_df = pd.read_csv(\"spacex_launch_dash.csv\")\n",
        "max_payload = spacex_df['Payload Mass (kg)'].max()\n",
        "min_payload = spacex_df['Payload Mass (kg)'].min()\n",
        "\n",
        "# Create a dash application\n",
        "app = dash.Dash(__name__)\n",
        "\n",
        "# Create an app layout\n",
        "app.layout = html.Div(children=[html.H1('SpaceX Launch Records Dashboard',\n",
        "                                        style={'textAlign': 'center', 'color': '#503D36',\n",
        "                                               'font-size': 40}),\n",
        "                                # Add a dropdown list to enable Launch Site selection\n",
        "                                # The default select value is for ALL sites\n",
        "                                html.Label('Dropdown'),\n",
        "                                dcc.Dropdown(id='site-dropdown',\n",
        "                                    options=[\n",
        "                                             {'label':'All Sites', 'value':'All Sites'},\n",
        "                                             {'label':'CCAFS LC-40', 'value':'CCAFS LC-40'},\n",
        "                                             {'label':'KSC LC-39A', 'value':'KSC LC-39A'},\n",
        "                                             {'label':'VAFB SLC-4E', 'value':'VAFB SLC-4E'},\n",
        "                                             {'label':'CCAFS SLC-40', 'value':'CCAFS SLC-40'}\n",
        "                                    ],\n",
        "                                    value='All Sites',\n",
        "                                    placeholder='Select a Launch Site here',\n",
        "                                    searchable=True\n",
        "                                ),\n",
        "                                html.Br(),\n",
        "\n",
        "                                # Add a pie chart to show the total successful launches count for all sites\n",
        "                                # If a specific launch site was selected, show the Success vs. Failed counts for the site\n",
        "                                html.Div(dcc.Graph(id='success-pie-chart')),\n",
        "                                html.Br(),\n",
        "\n",
        "                                html.P(\"Payload range (Kg):\"),\n",
        "                                # Add a slider to select payload range\n",
        "                                dcc.RangeSlider(id='payload-slider', min=0, max=10000, step=1000,\n",
        "                                                marks={i: '{} (Kg)'.format(i) for i in range(0, 10001, 1000)},\n",
        "                                                value=[min_payload, max_payload]),\n",
        "\n",
        "                                # Add a scatter chart to show the correlation between payload and launch success\n",
        "                                html.Div(dcc.Graph(id='success-payload-scatter-chart')),\n",
        "                                ])\n",
        "\n",
        "\n",
        "# Add a callback function for `site-dropdown` as input, `success-pie-chart` as output\n",
        "@app.callback( Output(component_id='success-pie-chart', component_property='figure'),\n",
        "               Input(component_id='site-dropdown', component_property='value'))\n",
        "def get_pie(site_sel):\n",
        "  if site_sel == 'All Sites':\n",
        "    piedata = spacex_df[['Launch Site', 'class']]\n",
        "    piedat = piedata.groupby(['Launch Site']).sum()\n",
        "    pie_fig = px.pie(piedat, values=\"class\", names=piedat.index, title='Total successful launches by site')\n",
        "    return pie_fig\n",
        "  else:\n",
        "    piedata = spacex_df[spacex_df['Launch Site']==site_sel]\n",
        "    piedat = piedata['class'].value_counts()\n",
        "    pie_fig = px.pie(piedat, names=piedat.index, values=piedat.values, title='Total successful launches for site {}'.format(site_sel))\n",
        "    return pie_fig\n",
        "\n",
        "# Add a callback function for `site-dropdown` and `payload-slider` as inputs, `success-payload-scatter-chart` as output\n",
        "@app.callback( Output(component_id='success-payload-scatter-chart', component_property='figure'),\n",
        "               [Input(component_id='site-dropdown', component_property='value'),\n",
        "                Input(component_id='payload-slider', component_property='value')])\n",
        "def get_sct(sel_site, payload):\n",
        "  if sel_site == 'All Sites':\n",
        "    sctdata = spacex_df[['Launch Site', 'class', 'Payload Mass (kg)', 'Booster Version Category']]\n",
        "    sctdat = spacex_df[(spacex_df['Payload Mass (kg)'] >= payload[0]) & (spacex_df['Payload Mass (kg)'] <= payload[1])]\n",
        "    sct_fig = px.scatter(sctdat, x=\"Payload Mass (kg)\", y=\"class\", color=\"Booster Version Category\")\n",
        "    return sct_fig\n",
        "  else:\n",
        "    sctdata = spacex_df[['Launch Site', 'class', 'Payload Mass (kg)', 'Booster Version Category']]\n",
        "    sctdat1 = sctdata[sctdata['Launch Site']==sel_site]\n",
        "    sctdat = sctdat1[(sctdat1['Payload Mass (kg)'] >= payload[0]) & (sctdat1['Payload Mass (kg)'] <= payload[1])]\n",
        "    sct_fig = px.scatter(sctdat, x=\"Payload Mass (kg)\", y=\"class\", color=\"Booster Version Category\")\n",
        "    return sct_fig\n",
        "# Run the app\n",
        "if __name__ == '__main__':\n",
        "    app.run_server()"
      ],
      "execution_count": null,
      "outputs": [
        {
          "output_type": "stream",
          "text": [
            "Writing spacex_dash_app.py\n"
          ],
          "name": "stdout"
        }
      ]
    },
    {
      "cell_type": "markdown",
      "metadata": {
        "id": "x5Re9Qy-q6Zc"
      },
      "source": [
        "Start running the app, then click on the link obtained from ngrok"
      ]
    },
    {
      "cell_type": "code",
      "metadata": {
        "colab": {
          "base_uri": "https://localhost:8080/"
        },
        "id": "mNt5JHUTM5Oo",
        "outputId": "017c2789-c168-4f68-9e9f-0c5a4da80166"
      },
      "source": [
        "!python spacex_dash_app.py"
      ],
      "execution_count": null,
      "outputs": [
        {
          "output_type": "stream",
          "text": [
            "Dash is running on http://127.0.0.1:8050/\n",
            "\n",
            " * Serving Flask app \"spacex_dash_app\" (lazy loading)\n",
            " * Environment: production\n",
            "\u001b[31m   WARNING: This is a development server. Do not use it in a production deployment.\u001b[0m\n",
            "\u001b[2m   Use a production WSGI server instead.\u001b[0m\n",
            " * Debug mode: off\n",
            " * Running on http://127.0.0.1:8050/ (Press CTRL+C to quit)\n",
            "127.0.0.1 - - [20/Aug/2021 20:51:06] \"\u001b[37mGET / HTTP/1.1\u001b[0m\" 200 -\n",
            "127.0.0.1 - - [20/Aug/2021 20:51:06] \"\u001b[37mGET /_dash-component-suites/dash/deps/react@16.v1_21_0m1629469491.14.0.min.js HTTP/1.1\u001b[0m\" 200 -\n",
            "127.0.0.1 - - [20/Aug/2021 20:51:06] \"\u001b[37mGET /_dash-component-suites/dash/deps/polyfill@7.v1_21_0m1629469491.12.1.min.js HTTP/1.1\u001b[0m\" 200 -\n",
            "127.0.0.1 - - [20/Aug/2021 20:51:07] \"\u001b[37mGET /_dash-component-suites/dash_core_components/dash_core_components-shared.v1_17_1m1629469491.js HTTP/1.1\u001b[0m\" 200 -\n",
            "127.0.0.1 - - [20/Aug/2021 20:51:07] \"\u001b[37mGET /_dash-component-suites/dash/deps/prop-types@15.v1_21_0m1629469491.7.2.min.js HTTP/1.1\u001b[0m\" 200 -\n",
            "127.0.0.1 - - [20/Aug/2021 20:51:07] \"\u001b[37mGET /_dash-component-suites/dash/deps/react-dom@16.v1_21_0m1629469491.14.0.min.js HTTP/1.1\u001b[0m\" 200 -\n",
            "127.0.0.1 - - [20/Aug/2021 20:51:07] \"\u001b[37mGET /_dash-component-suites/dash_html_components/dash_html_components.v1_1_4m1629469491.min.js HTTP/1.1\u001b[0m\" 200 -\n",
            "127.0.0.1 - - [20/Aug/2021 20:51:07] \"\u001b[37mGET /_dash-component-suites/dash/dash-renderer/build/dash_renderer.v1_21_0m1629469491.min.js HTTP/1.1\u001b[0m\" 200 -\n",
            "127.0.0.1 - - [20/Aug/2021 20:51:07] \"\u001b[37mGET /_dash-component-suites/dash_core_components/dash_core_components.v1_17_1m1629469491.js HTTP/1.1\u001b[0m\" 200 -\n",
            "127.0.0.1 - - [20/Aug/2021 20:51:08] \"\u001b[37mGET / HTTP/1.1\u001b[0m\" 200 -\n",
            "127.0.0.1 - - [20/Aug/2021 20:51:11] \"\u001b[37mGET /_dash-component-suites/dash/deps/prop-types@15.v1_21_0m1629469491.7.2.min.js HTTP/1.1\u001b[0m\" 200 -\n",
            "127.0.0.1 - - [20/Aug/2021 20:51:11] \"\u001b[37mGET /_dash-component-suites/dash_core_components/dash_core_components-shared.v1_17_1m1629469491.js HTTP/1.1\u001b[0m\" 200 -\n",
            "127.0.0.1 - - [20/Aug/2021 20:51:11] \"\u001b[37mGET /_dash-component-suites/dash_html_components/dash_html_components.v1_1_4m1629469491.min.js HTTP/1.1\u001b[0m\" 200 -\n",
            "127.0.0.1 - - [20/Aug/2021 20:51:11] \"\u001b[37mGET /_dash-component-suites/dash/deps/polyfill@7.v1_21_0m1629469491.12.1.min.js HTTP/1.1\u001b[0m\" 200 -\n",
            "127.0.0.1 - - [20/Aug/2021 20:51:11] \"\u001b[37mGET /_dash-component-suites/dash/deps/react-dom@16.v1_21_0m1629469491.14.0.min.js HTTP/1.1\u001b[0m\" 200 -\n",
            "127.0.0.1 - - [20/Aug/2021 20:51:11] \"\u001b[37mGET /_dash-component-suites/dash_core_components/dash_core_components.v1_17_1m1629469491.js HTTP/1.1\u001b[0m\" 200 -\n",
            "127.0.0.1 - - [20/Aug/2021 20:51:13] \"\u001b[37mGET /_dash-component-suites/dash/dash-renderer/build/dash_renderer.v1_21_0m1629469491.min.js HTTP/1.1\u001b[0m\" 200 -\n",
            "127.0.0.1 - - [20/Aug/2021 20:51:16] \"\u001b[37mGET /_dash-layout HTTP/1.1\u001b[0m\" 200 -\n",
            "127.0.0.1 - - [20/Aug/2021 20:51:16] \"\u001b[37mGET /_dash-dependencies HTTP/1.1\u001b[0m\" 200 -\n",
            "127.0.0.1 - - [20/Aug/2021 20:51:16] \"\u001b[37mGET /_favicon.ico?v=1.21.0 HTTP/1.1\u001b[0m\" 200 -\n",
            "127.0.0.1 - - [20/Aug/2021 20:51:16] \"\u001b[37mGET /_dash-component-suites/dash_core_components/async-dropdown.js HTTP/1.1\u001b[0m\" 200 -\n",
            "127.0.0.1 - - [20/Aug/2021 20:51:16] \"\u001b[37mGET /_dash-component-suites/dash_core_components/async-graph.js HTTP/1.1\u001b[0m\" 200 -\n",
            "127.0.0.1 - - [20/Aug/2021 20:51:16] \"\u001b[37mGET /_dash-component-suites/dash_core_components/async-slider.js HTTP/1.1\u001b[0m\" 200 -\n",
            "127.0.0.1 - - [20/Aug/2021 20:51:17] \"\u001b[37mGET /_dash-component-suites/dash_core_components/async-plotlyjs.js HTTP/1.1\u001b[0m\" 200 -\n",
            "127.0.0.1 - - [20/Aug/2021 20:51:17] \"\u001b[37mGET /_dash-component-suites/dash/deps/react@16.v1_21_0m1629469491.14.0.min.js HTTP/1.1\u001b[0m\" 200 -\n",
            "127.0.0.1 - - [20/Aug/2021 20:51:18] \"\u001b[37mPOST /_dash-update-component HTTP/1.1\u001b[0m\" 200 -\n",
            "127.0.0.1 - - [20/Aug/2021 20:51:18] \"\u001b[37mPOST /_dash-update-component HTTP/1.1\u001b[0m\" 200 -\n",
            "127.0.0.1 - - [20/Aug/2021 20:51:20] \"\u001b[37mGET /_dash-layout HTTP/1.1\u001b[0m\" 200 -\n",
            "127.0.0.1 - - [20/Aug/2021 20:51:20] \"\u001b[37mGET /_dash-dependencies HTTP/1.1\u001b[0m\" 200 -\n",
            "127.0.0.1 - - [20/Aug/2021 20:51:22] \"\u001b[37mGET /_dash-component-suites/dash_core_components/async-graph.js HTTP/1.1\u001b[0m\" 200 -\n",
            "127.0.0.1 - - [20/Aug/2021 20:51:22] \"\u001b[37mGET /_dash-component-suites/dash_core_components/async-dropdown.js HTTP/1.1\u001b[0m\" 200 -\n",
            "127.0.0.1 - - [20/Aug/2021 20:51:22] \"\u001b[37mGET /_dash-component-suites/dash_core_components/async-slider.js HTTP/1.1\u001b[0m\" 200 -\n",
            "127.0.0.1 - - [20/Aug/2021 20:51:23] \"\u001b[37mGET /_dash-component-suites/dash_core_components/async-plotlyjs.js HTTP/1.1\u001b[0m\" 200 -\n",
            "127.0.0.1 - - [20/Aug/2021 20:51:29] \"\u001b[37mPOST /_dash-update-component HTTP/1.1\u001b[0m\" 200 -\n",
            "127.0.0.1 - - [20/Aug/2021 20:51:29] \"\u001b[37mPOST /_dash-update-component HTTP/1.1\u001b[0m\" 200 -\n",
            "^C\n"
          ],
          "name": "stdout"
        }
      ]
    }
  ]
}